{
 "cells": [
  {
   "cell_type": "markdown",
   "id": "83a6166b",
   "metadata": {},
   "source": [
    "# Extraction à partir d'une base de données"
   ]
  },
  {
   "cell_type": "code",
   "execution_count": 10,
   "id": "b382cde5",
   "metadata": {},
   "outputs": [],
   "source": [
    "import sqlite3"
   ]
  },
  {
   "cell_type": "code",
   "execution_count": 11,
   "id": "bd9071f4",
   "metadata": {},
   "outputs": [],
   "source": [
    "#Le curseur (ou \"cursor\" en anglais) est un objet qui vous permet d'exécuter des requêtes SQL et d'interagir avec la base de données.\n",
    "bdd_ma_banque = sqlite3.connect('py066-ma_banque.db')\n",
    "curseur = bdd_ma_banque.cursor()\n",
    "# Fermer le curseur et la connexion à la base de données lorsque vous avez terminé la requête\n",
    "curseur.close()\n",
    "bdd_ma_banque.close()"
   ]
  },
  {
   "cell_type": "markdown",
   "id": "23da9615",
   "metadata": {},
   "source": [
    "### Donner le nom et le prénom de tous les clients :"
   ]
  },
  {
   "cell_type": "code",
   "execution_count": 19,
   "id": "21bbe7c0",
   "metadata": {},
   "outputs": [
    {
     "name": "stdout",
     "output_type": "stream",
     "text": [
      "('Buck', 'Violet')\n",
      "('Hood', 'Isabelle')\n",
      "('Small', 'Germane')\n",
      "('Hancock', 'Vincent')\n",
      "('Mayo', 'Gwendolyn')\n",
      "('Dean', 'Emi')\n",
      "('Salinas', 'Debra')\n",
      "('Hunter', 'Jesse')\n",
      "('Morin', 'Fulton')\n",
      "('Duke', 'Aladdin')\n",
      "('Parsons', 'Leroy')\n",
      "('Coffey', 'Dominique')\n",
      "('Bird', 'Britanney')\n",
      "('Cooke', 'Julian')\n",
      "('Raymond', 'Venus')\n",
      "('Lynch', 'Austin')\n",
      "('Morgan', 'Edan')\n",
      "('Carpenter', 'Sage')\n",
      "('Valenzuela', 'Francis')\n",
      "('Rodriquez', 'Sylvia')\n",
      "('Perry', 'Isabella')\n",
      "('Beard', 'Jordan')\n",
      "('Clarke', 'Yvette')\n",
      "('Huber', 'April')\n",
      "('Joyner', 'Eliana')\n",
      "('Little', 'Leigh')\n",
      "('Reilly', 'Karina')\n",
      "('Gilmore', 'Sean')\n",
      "('Gates', 'Ora')\n",
      "('Hines', 'Wylie')\n",
      "('Thornton', 'Brenda')\n",
      "('Mclaughlin', 'Caldwell')\n",
      "('Schmidt', 'Dorian')\n",
      "('Hines', 'Rose')\n",
      "('Cooke', 'Jordan')\n",
      "('Gallegos', 'Otto')\n",
      "('Pennington', 'Adrian')\n",
      "('Howard', 'Brynne')\n",
      "('Sullivan', 'Isadora')\n",
      "('Cleveland', 'Yoshio')\n",
      "('Mcpherson', 'Cyrus')\n",
      "('Lee', 'Dustin')\n",
      "('Cobb', 'Alexandra')\n",
      "('Mays', 'Latifah')\n",
      "('Grant', 'Prescott')\n",
      "('Hill', 'Olivia')\n",
      "('Livingston', 'Adria')\n",
      "('Rush', 'Lev')\n",
      "('Shepard', 'Summer')\n",
      "('Rutledge', 'Maggy')\n",
      "('Shepherd', 'Isa')\n",
      "('Peters', 'Odette')\n",
      "('Maddox', 'Hammett')\n",
      "('Greer', 'Echo')\n",
      "('Burch', 'Rebecca')\n",
      "('Hunt', 'Madaline')\n",
      "('Peck', 'Keiko')\n",
      "('Roberson', 'Lewis')\n",
      "('Dumbledore', 'Albus')\n",
      "('Rogue', 'Severus')\n",
      "('Wells', 'Bethany')\n",
      "('Faulkner', 'Ramona')\n",
      "('Diaz', 'Ivory')\n",
      "('Booker', 'Ahmed')\n",
      "('Conrad', 'Sara')\n",
      "('Roy', 'Winifred')\n",
      "('Blanchard', 'Chiquita')\n",
      "('Green', 'Ulric')\n",
      "('Robles', 'Paloma')\n",
      "('Watts', 'Uma')\n",
      "('Barry', 'Xavier')\n",
      "('Gaines', 'Rosalyn')\n",
      "('Romero', 'Uriah')\n",
      "('Wilkinson', 'Ariana')\n",
      "('Aguirre', 'Amir')\n",
      "('MacGonagall', 'Minerva')\n",
      "('Montoya', 'Martina')\n",
      "('Eaton', 'Lacy')\n",
      "('Baldwin', 'Charity')\n",
      "('Mercer', 'Quinn')\n",
      "('Rojas', 'Lisandra')\n",
      "('Campos', 'Melissa')\n",
      "('Finley', 'Myra')\n",
      "('Gill', 'Mari')\n",
      "('Guerra', 'Leonard')\n",
      "('Floyd', 'Taylor')\n",
      "('Burns', 'Steel')\n",
      "('Hobbs', 'Sydney')\n",
      "('Fry', 'Sierra')\n",
      "('Little', 'Nero')\n",
      "('Weeks', 'Lamar')\n",
      "('Alvarado', 'Jerry')\n",
      "('Becker', 'Buckminster')\n",
      "('Short', 'Conan')\n",
      "('Koch', 'Alexa')\n",
      "('Sparks', 'Nina')\n",
      "('Mathews', 'Elmo')\n",
      "('Slater', 'Donovan')\n",
      "('Sparks', 'Steel')\n"
     ]
    }
   ],
   "source": [
    "bdd_ma_banque = sqlite3.connect('../datas/py066-ma_banque.db')\n",
    "curseur = bdd_ma_banque.cursor()\n",
    "curseur.execute('SELECT nom, prenom FROM client')\n",
    "\n",
    "#fetchall() return 1st result\n",
    "client = curseur.fetchone()\n",
    "for client in curseur.fetchall() :\n",
    "    print(client)\n",
    "\n",
    "curseur.close()\n",
    "bdd_ma_banque.close()"
   ]
  },
  {
   "cell_type": "code",
   "execution_count": null,
   "id": "b4f56b96",
   "metadata": {},
   "outputs": [],
   "source": []
  }
 ],
 "metadata": {
  "kernelspec": {
   "display_name": "Python 3 (ipykernel)",
   "language": "python",
   "name": "python3"
  },
  "language_info": {
   "codemirror_mode": {
    "name": "ipython",
    "version": 3
   },
   "file_extension": ".py",
   "mimetype": "text/x-python",
   "name": "python",
   "nbconvert_exporter": "python",
   "pygments_lexer": "ipython3",
   "version": "3.11.3"
  }
 },
 "nbformat": 4,
 "nbformat_minor": 5
}
